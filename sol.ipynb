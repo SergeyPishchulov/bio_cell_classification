{
 "cells": [
  {
   "cell_type": "code",
   "execution_count": 123,
   "id": "fb1d4920",
   "metadata": {},
   "outputs": [],
   "source": [
    "from sklearn.model_selection import TimeSeriesSplit\n",
    "from sklearn.ensemble import GradientBoostingRegressor\n",
    "import pandas as pd\n",
    "from xgboost import XGBRegressor\n",
    "from sklearn.model_selection import train_test_split\n",
    "import numpy as np\n",
    "import os\n",
    "import torch\n",
    "import random\n",
    "import plotly.graph_objects as go\n",
    "import plotly.express as px\n",
    "import matplotlib.pyplot as plt\n",
    "from IPython.display import Image\n",
    "\n",
    "SEED = 24535\n",
    "\n",
    "\n",
    "def seed_everything(seed=SEED):\n",
    "    random.seed(seed)\n",
    "    os.environ['PYTHONHASHSEED'] = str(seed)\n",
    "    np.random.seed(seed)\n",
    "    # torch.manual_seed(seed)\n",
    "    # torch.cuda.manual_seed(seed)\n",
    "    # torch.cuda.manual_seed_all(seed)\n",
    "    # torch.backends.cudnn.deterministic = True\n",
    "\n",
    "\n",
    "seed_everything()"
   ]
  },
  {
   "cell_type": "code",
   "execution_count": 124,
   "id": "4bcc48ec-34f7-4737-b607-d14133fd97e7",
   "metadata": {
    "tags": []
   },
   "outputs": [],
   "source": [
    "pd.set_option('display.max_rows', 500)\n"
   ]
  },
  {
   "cell_type": "code",
   "execution_count": 2,
   "id": "522613a3-9729-49cc-8f19-3ec9a9f26bab",
   "metadata": {
    "tags": []
   },
   "outputs": [],
   "source": [
    "train = pd.read_csv('data_set_ALL_AML_train.csv')\n"
   ]
  },
  {
   "cell_type": "code",
   "execution_count": 4,
   "id": "046c777b-c5b2-4fe3-9c15-600342211b66",
   "metadata": {
    "tags": []
   },
   "outputs": [],
   "source": [
    "test = pd.read_csv('data_set_ALL_AML_independent.csv')\n"
   ]
  },
  {
   "cell_type": "code",
   "execution_count": 57,
   "id": "ba1a1142",
   "metadata": {},
   "outputs": [
    {
     "data": {
      "text/plain": [
       "((7129, 78), (7129, 70))"
      ]
     },
     "execution_count": 57,
     "metadata": {},
     "output_type": "execute_result"
    }
   ],
   "source": [
    "train.shape, test.shape\n"
   ]
  },
  {
   "cell_type": "code",
   "execution_count": 71,
   "id": "fe77017f",
   "metadata": {},
   "outputs": [],
   "source": [
    "def get_person_columns(df):\n",
    "    return [c for c in df.columns if c.isdigit()]\n"
   ]
  },
  {
   "cell_type": "code",
   "execution_count": 72,
   "id": "c826b33f-ee2c-496f-96e4-a59c17059539",
   "metadata": {
    "tags": []
   },
   "outputs": [
    {
     "data": {
      "text/plain": [
       "(72, 2)"
      ]
     },
     "execution_count": 72,
     "metadata": {},
     "output_type": "execute_result"
    }
   ],
   "source": [
    "target_orig = pd.read_csv('actual.csv')\n",
    "target_orig.shape\n"
   ]
  },
  {
   "cell_type": "code",
   "execution_count": 73,
   "id": "94f3cff7-8b2d-42e5-9b47-00caf402beeb",
   "metadata": {
    "tags": []
   },
   "outputs": [],
   "source": [
    "train_expressions_cols = get_person_columns(\n",
    "    train)  # list(map(str,range(1,38)))\n",
    "test_expressions_cols = get_person_columns(\n",
    "    test)  # list(map(str,range(39, 63)))\n",
    "# expressions_cols\n"
   ]
  },
  {
   "cell_type": "code",
   "execution_count": 75,
   "id": "ca87c1b9",
   "metadata": {},
   "outputs": [],
   "source": [
    "# train_expressions_cols\n"
   ]
  },
  {
   "cell_type": "code",
   "execution_count": 77,
   "id": "12ca0748-c039-4fb4-b2fb-0c176da4b32e",
   "metadata": {
    "tags": []
   },
   "outputs": [],
   "source": [
    "# train['Gene Accession Number']\n"
   ]
  },
  {
   "cell_type": "code",
   "execution_count": 78,
   "id": "0780d252-5b2a-4a61-8163-dfac925e7599",
   "metadata": {
    "tags": []
   },
   "outputs": [],
   "source": [
    "train_exp = pd.DataFrame(train[train_expressions_cols]).set_index(\n",
    "    train['Gene Accession Number'])\n",
    "test_exp = pd.DataFrame(test[test_expressions_cols]).set_index(\n",
    "    test['Gene Accession Number'])\n"
   ]
  },
  {
   "cell_type": "code",
   "execution_count": 79,
   "id": "19ccef97-5bf8-4eba-9e97-ddc96e9fe06f",
   "metadata": {
    "tags": []
   },
   "outputs": [],
   "source": [
    "import plotly.graph_objects as go\n",
    "\n",
    "# fig = go.Figure(data=[go.Histogram(x=exp.values.reshape(-1))])\n",
    "# fig.show()\n"
   ]
  },
  {
   "cell_type": "code",
   "execution_count": 150,
   "id": "32dac78c-5988-4cf9-ba41-b75f7d658158",
   "metadata": {
    "tags": []
   },
   "outputs": [],
   "source": [
    "X_train = train_exp.rename(\n",
    "    {c: f\"person{c}\" for c in train_exp.columns}, axis='columns').T.sample(frac=1)\n",
    "X_test = test_exp.rename(\n",
    "    {c: f\"person{c}\" for c in test_exp.columns}, axis='columns').T\n",
    "val_size = 16\n",
    "X_val = X_train[-val_size:]\n",
    "X_train = X_train[:-val_size]\n"
   ]
  },
  {
   "cell_type": "code",
   "execution_count": 151,
   "id": "b0f4a36c",
   "metadata": {},
   "outputs": [
    {
     "data": {
      "text/plain": [
       "((22, 7129), (16, 7129), (34, 7129))"
      ]
     },
     "execution_count": 151,
     "metadata": {},
     "output_type": "execute_result"
    }
   ],
   "source": [
    "X_train.shape, X_val.shape, X_test.shape\n"
   ]
  },
  {
   "cell_type": "code",
   "execution_count": 152,
   "id": "b5aaa93d-d6aa-4488-8c34-f98993e47caa",
   "metadata": {
    "tags": []
   },
   "outputs": [],
   "source": [
    "target = pd.Series(target_orig.cancer.values, index=[\n",
    "                   f\"person{n}\" for n in target_orig.patient]).rename(\"cancer\")\n",
    "target_one_hot = (target == \"ALL\").astype(int)\n",
    "target_one_hot.value_counts()\n",
    "Y_train = target_one_hot.loc[X_train.index]\n",
    "Y_val = target_one_hot.loc[X_val.index]\n",
    "Y_test = target_one_hot.loc[X_test.index]\n"
   ]
  },
  {
   "cell_type": "code",
   "execution_count": 153,
   "id": "32c1607e",
   "metadata": {},
   "outputs": [
    {
     "data": {
      "text/plain": [
       "person35    0\n",
       "person23    1\n",
       "person2     1\n",
       "person7     1\n",
       "person21    1\n",
       "person28    0\n",
       "person26    1\n",
       "person20    1\n",
       "person25    1\n",
       "person33    0\n",
       "person29    0\n",
       "person22    1\n",
       "person4     1\n",
       "person3     1\n",
       "person12    1\n",
       "person32    0\n",
       "Name: cancer, dtype: int64"
      ]
     },
     "execution_count": 153,
     "metadata": {},
     "output_type": "execute_result"
    }
   ],
   "source": [
    "Y_val"
   ]
  },
  {
   "cell_type": "code",
   "execution_count": 154,
   "id": "79232272-c58b-47bb-a216-323dce5de1c3",
   "metadata": {
    "tags": []
   },
   "outputs": [],
   "source": [
    "cors = X_train.apply(lambda x: x.corr(target_one_hot))\n"
   ]
  },
  {
   "cell_type": "code",
   "execution_count": 155,
   "id": "96a0dc5e-40a4-40e0-a032-49e1a6e2037a",
   "metadata": {},
   "outputs": [],
   "source": [
    "# persons.join(target)\n"
   ]
  },
  {
   "cell_type": "code",
   "execution_count": 156,
   "id": "93dbe589-3e2e-4d72-9a44-4abb46556869",
   "metadata": {
    "tags": []
   },
   "outputs": [
    {
     "data": {
      "text/plain": [
       "Gene Accession Number\n",
       "M84526_at          -0.919101\n",
       "M96326_rna1_at     -0.900047\n",
       "M62762_at          -0.895991\n",
       "U50136_rna1_at     -0.886066\n",
       "M69043_at          -0.876101\n",
       "                      ...   \n",
       "D26156_s_at         0.759177\n",
       "J04615_at           0.764558\n",
       "D38128_at           0.768772\n",
       "HG2689-HT2785_at    0.778916\n",
       "U37055_rna1_s_at    0.792280\n",
       "Length: 7129, dtype: float64"
      ]
     },
     "execution_count": 156,
     "metadata": {},
     "output_type": "execute_result"
    }
   ],
   "source": [
    "cors = cors.sort_values()\n",
    "cors\n"
   ]
  },
  {
   "cell_type": "code",
   "execution_count": 157,
   "id": "1f0553b8",
   "metadata": {},
   "outputs": [],
   "source": [
    "important_features = cors[cors.abs() > 0.7].index\n"
   ]
  },
  {
   "cell_type": "code",
   "execution_count": 158,
   "id": "a3e31200-0b04-4851-8ed0-2ddbd46a8ed6",
   "metadata": {
    "tags": []
   },
   "outputs": [],
   "source": [
    "# cors.iloc[:30]\n"
   ]
  },
  {
   "cell_type": "code",
   "execution_count": 159,
   "id": "2efde4c7-7186-40a2-b2ad-b8e173fc68ca",
   "metadata": {
    "tags": []
   },
   "outputs": [],
   "source": [
    "# cors.iloc[-15:]\n"
   ]
  },
  {
   "cell_type": "code",
   "execution_count": 160,
   "id": "a4308c05-d963-4875-9dae-028d5b72e127",
   "metadata": {
    "tags": []
   },
   "outputs": [],
   "source": [
    "from sklearn.model_selection import train_test_split\n",
    "from sklearn.linear_model import LogisticRegression\n"
   ]
  },
  {
   "cell_type": "code",
   "execution_count": 161,
   "id": "5f3fa79b",
   "metadata": {},
   "outputs": [],
   "source": [
    "X_train = X_train\n"
   ]
  },
  {
   "cell_type": "code",
   "execution_count": 162,
   "id": "28455834-4289-4f68-a7ef-ad373fefd6a2",
   "metadata": {},
   "outputs": [],
   "source": [
    "reg = LogisticRegression()\n",
    "reg.fit(X_train, Y_train)\n",
    "predicted = reg.predict(X_val)\n"
   ]
  },
  {
   "cell_type": "code",
   "execution_count": 163,
   "id": "d25d09d9",
   "metadata": {},
   "outputs": [
    {
     "data": {
      "text/plain": [
       "array([1, 1, 1, 1, 1, 0, 1, 1, 1, 0, 0, 1, 1, 1, 1, 0])"
      ]
     },
     "execution_count": 163,
     "metadata": {},
     "output_type": "execute_result"
    }
   ],
   "source": [
    "predicted\n"
   ]
  },
  {
   "cell_type": "code",
   "execution_count": 164,
   "id": "e1639c1f",
   "metadata": {},
   "outputs": [],
   "source": [
    "from sklearn.metrics import classification_report\n"
   ]
  },
  {
   "cell_type": "code",
   "execution_count": 165,
   "id": "aee5c332",
   "metadata": {},
   "outputs": [
    {
     "name": "stdout",
     "output_type": "stream",
     "text": [
      "              precision    recall  f1-score   support\n",
      "\n",
      "           0       1.00      0.80      0.89         5\n",
      "           1       0.92      1.00      0.96        11\n",
      "\n",
      "    accuracy                           0.94        16\n",
      "   macro avg       0.96      0.90      0.92        16\n",
      "weighted avg       0.94      0.94      0.94        16\n",
      "\n"
     ]
    }
   ],
   "source": [
    "print(classification_report(Y_val, predicted))\n"
   ]
  },
  {
   "cell_type": "code",
   "execution_count": null,
   "id": "75cf9286",
   "metadata": {},
   "outputs": [],
   "source": []
  }
 ],
 "metadata": {
  "kernelspec": {
   "display_name": "Python 3 (ipykernel)",
   "language": "python",
   "name": "python3"
  },
  "language_info": {
   "codemirror_mode": {
    "name": "ipython",
    "version": 3
   },
   "file_extension": ".py",
   "mimetype": "text/x-python",
   "name": "python",
   "nbconvert_exporter": "python",
   "pygments_lexer": "ipython3",
   "version": "3.10.6"
  }
 },
 "nbformat": 4,
 "nbformat_minor": 5
}
