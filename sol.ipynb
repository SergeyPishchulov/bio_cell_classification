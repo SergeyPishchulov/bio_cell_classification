{
 "cells": [
  {
   "cell_type": "code",
   "execution_count": 123,
   "id": "fb1d4920",
   "metadata": {},
   "outputs": [],
   "source": [
    "from sklearn.model_selection import TimeSeriesSplit\n",
    "from sklearn.ensemble import GradientBoostingRegressor\n",
    "import pandas as pd\n",
    "from xgboost import XGBRegressor\n",
    "from sklearn.model_selection import train_test_split\n",
    "import numpy as np\n",
    "import os\n",
    "import torch\n",
    "import random\n",
    "import plotly.graph_objects as go\n",
    "import plotly.express as px\n",
    "import matplotlib.pyplot as plt\n",
    "from IPython.display import Image\n",
    "\n",
    "SEED = 24535\n",
    "\n",
    "\n",
    "def seed_everything(seed=SEED):\n",
    "    random.seed(seed)\n",
    "    os.environ['PYTHONHASHSEED'] = str(seed)\n",
    "    np.random.seed(seed)\n",
    "    # torch.manual_seed(seed)\n",
    "    # torch.cuda.manual_seed(seed)\n",
    "    # torch.cuda.manual_seed_all(seed)\n",
    "    # torch.backends.cudnn.deterministic = True\n",
    "\n",
    "\n",
    "seed_everything()"
   ]
  },
  {
   "cell_type": "code",
   "execution_count": 124,
   "id": "4bcc48ec-34f7-4737-b607-d14133fd97e7",
   "metadata": {
    "tags": []
   },
   "outputs": [],
   "source": [
    "pd.set_option('display.max_rows', 500)\n"
   ]
  },
  {
   "cell_type": "code",
   "execution_count": 2,
   "id": "522613a3-9729-49cc-8f19-3ec9a9f26bab",
   "metadata": {
    "tags": []
   },
   "outputs": [],
   "source": [
    "train = pd.read_csv('data_set_ALL_AML_train.csv')\n"
   ]
  },
  {
   "cell_type": "code",
   "execution_count": 4,
   "id": "046c777b-c5b2-4fe3-9c15-600342211b66",
   "metadata": {
    "tags": []
   },
   "outputs": [],
   "source": [
    "test = pd.read_csv('data_set_ALL_AML_independent.csv')\n"
   ]
  },
  {
   "cell_type": "code",
   "execution_count": 57,
   "id": "ba1a1142",
   "metadata": {},
   "outputs": [
    {
     "data": {
      "text/plain": [
       "((7129, 78), (7129, 70))"
      ]
     },
     "execution_count": 57,
     "metadata": {},
     "output_type": "execute_result"
    }
   ],
   "source": [
    "train.shape, test.shape\n"
   ]
  },
  {
   "cell_type": "code",
   "execution_count": 71,
   "id": "fe77017f",
   "metadata": {},
   "outputs": [],
   "source": [
    "def get_person_columns(df):\n",
    "    return [c for c in df.columns if c.isdigit()]\n"
   ]
  },
  {
   "cell_type": "code",
   "execution_count": 72,
   "id": "c826b33f-ee2c-496f-96e4-a59c17059539",
   "metadata": {
    "tags": []
   },
   "outputs": [
    {
     "data": {
      "text/plain": [
       "(72, 2)"
      ]
     },
     "execution_count": 72,
     "metadata": {},
     "output_type": "execute_result"
    }
   ],
   "source": [
    "target_orig = pd.read_csv('actual.csv')\n",
    "target_orig.shape\n"
   ]
  },
  {
   "cell_type": "code",
   "execution_count": 73,
   "id": "94f3cff7-8b2d-42e5-9b47-00caf402beeb",
   "metadata": {
    "tags": []
   },
   "outputs": [],
   "source": [
    "train_expressions_cols = get_person_columns(\n",
    "    train)  # list(map(str,range(1,38)))\n",
    "test_expressions_cols = get_person_columns(\n",
    "    test)  # list(map(str,range(39, 63)))\n",
    "# expressions_cols\n"
   ]
  },
  {
   "cell_type": "code",
   "execution_count": 75,
   "id": "ca87c1b9",
   "metadata": {},
   "outputs": [],
   "source": [
    "# train_expressions_cols\n"
   ]
  },
  {
   "cell_type": "code",
   "execution_count": 77,
   "id": "12ca0748-c039-4fb4-b2fb-0c176da4b32e",
   "metadata": {
    "tags": []
   },
   "outputs": [],
   "source": [
    "# train['Gene Accession Number']\n"
   ]
  },
  {
   "cell_type": "code",
   "execution_count": 78,
   "id": "0780d252-5b2a-4a61-8163-dfac925e7599",
   "metadata": {
    "tags": []
   },
   "outputs": [],
   "source": [
    "train_exp = pd.DataFrame(train[train_expressions_cols]).set_index(\n",
    "    train['Gene Accession Number'])\n",
    "test_exp = pd.DataFrame(test[test_expressions_cols]).set_index(\n",
    "    test['Gene Accession Number'])\n"
   ]
  },
  {
   "cell_type": "code",
   "execution_count": 79,
   "id": "19ccef97-5bf8-4eba-9e97-ddc96e9fe06f",
   "metadata": {
    "tags": []
   },
   "outputs": [],
   "source": [
    "import plotly.graph_objects as go\n",
    "\n",
    "# fig = go.Figure(data=[go.Histogram(x=exp.values.reshape(-1))])\n",
    "# fig.show()\n"
   ]
  },
  {
   "cell_type": "code",
   "execution_count": 150,
   "id": "32dac78c-5988-4cf9-ba41-b75f7d658158",
   "metadata": {
    "tags": []
   },
   "outputs": [],
   "source": [
    "X_train = train_exp.rename(\n",
    "    {c: f\"person{c}\" for c in train_exp.columns}, axis='columns').T.sample(frac=1)\n",
    "X_test = test_exp.rename(\n",
    "    {c: f\"person{c}\" for c in test_exp.columns}, axis='columns').T\n",
    "val_size = 16\n",
    "X_val = X_train[-val_size:]\n",
    "X_train = X_train[:-val_size]\n"
   ]
  },
  {
   "cell_type": "code",
   "execution_count": 151,
   "id": "b0f4a36c",
   "metadata": {},
   "outputs": [
    {
     "data": {
      "text/plain": [
       "((22, 7129), (16, 7129), (34, 7129))"
      ]
     },
     "execution_count": 151,
     "metadata": {},
     "output_type": "execute_result"
    }
   ],
   "source": [
    "X_train.shape, X_val.shape, X_test.shape\n"
   ]
  },
  {
   "cell_type": "code",
   "execution_count": 152,
   "id": "b5aaa93d-d6aa-4488-8c34-f98993e47caa",
   "metadata": {
    "tags": []
   },
   "outputs": [],
   "source": [
    "target = pd.Series(target_orig.cancer.values, index=[\n",
    "                   f\"person{n}\" for n in target_orig.patient]).rename(\"cancer\")\n",
    "target_one_hot = (target == \"ALL\").astype(int)\n",
    "target_one_hot.value_counts()\n",
    "Y_train = target_one_hot.loc[X_train.index]\n",
    "Y_val = target_one_hot.loc[X_val.index]\n",
    "Y_test = target_one_hot.loc[X_test.index]\n"
   ]
  },
  {
   "cell_type": "code",
   "execution_count": 173,
   "id": "3829f1bb",
   "metadata": {},
   "outputs": [],
   "source": [
    "import phik\n",
    "from phik import resources, report"
   ]
  },
  {
   "cell_type": "code",
   "execution_count": 203,
   "id": "cf3d0bc4",
   "metadata": {},
   "outputs": [
    {
     "name": "stdout",
     "output_type": "stream",
     "text": [
      "interval columns not set, guessing: ['M84526_at', 'M96326_rna1_at', 'M62762_at', 'U50136_rna1_at', 'M69043_at', 'X04085_rna1_at', 'M27783_s_at', 'M55150_at', 'M16038_at', 'Y00787_s_at', 'M11147_at', 'L19779_at', 'M23197_at', 'L08246_at', 'X95735_at', 'M98399_s_at', 'D10495_at', 'M20203_s_at', 'M83221_at', 'X70297_at', 'M28209_at', 'M57710_at', 'U46751_at', 'D49950_at', 'M27891_at', 'M22960_at', 'U82759_at', 'M63138_at', 'M81695_s_at', 'Z32765_at', 'M32304_s_at', 'D43682_s_at', 'Y12670_at', 'X17042_at', 'M28130_rna1_s_at', 'M19045_f_at', 'L42379_at', 'L20941_at', 'X58431_rna2_s_at', 'U13666_at', 'X14008_rna1_f_at', 'HG1879-HT1919_at', 'M80899_at', 'L09235_at', 'J04027_at', 'J03801_f_at', 'L20316_at', 'X06985_at', 'U05572_s_at', 'M20681_at', 'D87433_at', 'M75715_s_at', 'U40369_rna1_at', 'D89052_at', 'X80907_at', 'X57579_s_at', 'X62654_rna1_at', 'X75042_at', 'L09717_at', 'D50310_at', 'X07730_at', 'D26579_at', 'M33684_s_at', 'M28713_at', 'D87953_at', 'D87116_at', 'HG2724-HT2820_at', 'L11669_at', 'M21551_rna1_at', 'M95178_at', 'U41767_s_at', 'K01383_at', 'U33821_at', 'AF009426_at', 'L13278_at', 'M14159_cds2_at', 'L02547_at', 'L47738_at', 'M31523_at', 'D50918_at', 'U22376_cds2_s_at', 'X52142_at', 'S82185_at', 'D26156_s_at', 'J04615_at', 'D38128_at', 'HG2689-HT2785_at', 'U37055_rna1_s_at', 'cancer']\n"
     ]
    }
   ],
   "source": [
    "phik_cors = pd.concat([X_train, Y_train], axis=1).phik_matrix()['cancer'].iloc[:-1]\n",
    "#[['M84526_at']]"
   ]
  },
  {
   "cell_type": "code",
   "execution_count": 204,
   "id": "841d50ef",
   "metadata": {},
   "outputs": [
    {
     "data": {
      "text/plain": [
       "L11669_at           0.519983\n",
       "S82185_at           0.555827\n",
       "U33821_at           0.595005\n",
       "D26579_at           0.597783\n",
       "M20681_at           0.661554\n",
       "J03801_f_at         0.672479\n",
       "J04027_at           0.678940\n",
       "M63138_at           0.690348\n",
       "D38128_at           0.691748\n",
       "X75042_at           0.693756\n",
       "L09717_at           0.704138\n",
       "M75715_s_at         0.709094\n",
       "U13666_at           0.709094\n",
       "U41767_s_at         0.714770\n",
       "X06985_at           0.716646\n",
       "M28130_rna1_s_at    0.719505\n",
       "D43682_s_at         0.720489\n",
       "M28209_at           0.720489\n",
       "M14159_cds2_at      0.727936\n",
       "X80907_at           0.734069\n",
       "M16038_at           0.734357\n",
       "L13278_at           0.745740\n",
       "M32304_s_at         0.745740\n",
       "M11147_at           0.757116\n",
       "U40369_rna1_at      0.777642\n",
       "X57579_s_at         0.779847\n",
       "U05572_s_at         0.782389\n",
       "L42379_at           0.787682\n",
       "D50918_at           0.791194\n",
       "D26156_s_at         0.802460\n",
       "M95178_at           0.811808\n",
       "HG2689-HT2785_at    0.820732\n",
       "D49950_at           0.827109\n",
       "M81695_s_at         0.836503\n",
       "K01383_at           0.836503\n",
       "X07730_at           0.842035\n",
       "U82759_at           0.844271\n",
       "L02547_at           0.861891\n",
       "M55150_at           0.867037\n",
       "HG1879-HT1919_at    0.867522\n",
       "M31523_at           0.871052\n",
       "X04085_rna1_at      0.871052\n",
       "L20941_at           0.875950\n",
       "HG2724-HT2820_at    0.897348\n",
       "D87953_at           0.901803\n",
       "X17042_at           0.908011\n",
       "D89052_at           0.916564\n",
       "L09235_at           0.916564\n",
       "X14008_rna1_f_at    0.917932\n",
       "M57710_at           0.924864\n",
       "D50310_at           0.929223\n",
       "M19045_f_at         0.935080\n",
       "X52142_at           0.935129\n",
       "M23197_at           0.941213\n",
       "M20203_s_at         0.943305\n",
       "M28713_at           0.950824\n",
       "D87116_at           0.951023\n",
       "X62654_rna1_at      0.954044\n",
       "U22376_cds2_s_at    0.962139\n",
       "X58431_rna2_s_at    0.962139\n",
       "M33684_s_at         0.963788\n",
       "M22960_at           0.965438\n",
       "D87433_at           0.971121\n",
       "U46751_at           0.973003\n",
       "M98399_s_at         0.973083\n",
       "Z32765_at           0.973916\n",
       "Y12670_at           0.978531\n",
       "M83221_at           0.980208\n",
       "L20316_at           0.980208\n",
       "L08246_at           0.980208\n",
       "L19779_at           0.981321\n",
       "M80899_at           0.981880\n",
       "D10495_at           0.989353\n",
       "X70297_at           0.990231\n",
       "L47738_at           1.000000\n",
       "J04615_at           1.000000\n",
       "M84526_at           1.000000\n",
       "M21551_rna1_at      1.000000\n",
       "M27891_at           1.000000\n",
       "X95735_at           1.000000\n",
       "Y00787_s_at         1.000000\n",
       "M27783_s_at         1.000000\n",
       "M69043_at           1.000000\n",
       "U50136_rna1_at      1.000000\n",
       "M62762_at           1.000000\n",
       "M96326_rna1_at      1.000000\n",
       "AF009426_at         1.000000\n",
       "U37055_rna1_s_at    1.000000\n",
       "Name: cancer, dtype: float64"
      ]
     },
     "execution_count": 204,
     "metadata": {},
     "output_type": "execute_result"
    }
   ],
   "source": [
    "phik_cors.sort_values()"
   ]
  },
  {
   "cell_type": "code",
   "execution_count": 205,
   "id": "8fe5b4e9",
   "metadata": {},
   "outputs": [
    {
     "data": {
      "text/plain": [
       "Index(['M84526_at', 'M96326_rna1_at', 'M62762_at', 'U50136_rna1_at',\n",
       "       'M69043_at', 'X04085_rna1_at', 'M27783_s_at', 'M55150_at',\n",
       "       'Y00787_s_at', 'M11147_at', 'L19779_at', 'M23197_at', 'L08246_at',\n",
       "       'X95735_at', 'M98399_s_at', 'D10495_at', 'M20203_s_at', 'M83221_at',\n",
       "       'X70297_at', 'M57710_at', 'U46751_at', 'D49950_at', 'M27891_at',\n",
       "       'M22960_at', 'U82759_at', 'M81695_s_at', 'Z32765_at', 'Y12670_at',\n",
       "       'X17042_at', 'M19045_f_at', 'L42379_at', 'L20941_at',\n",
       "       'X58431_rna2_s_at', 'X14008_rna1_f_at', 'HG1879-HT1919_at', 'M80899_at',\n",
       "       'L09235_at', 'L20316_at', 'U05572_s_at', 'D87433_at', 'U40369_rna1_at',\n",
       "       'D89052_at', 'X57579_s_at', 'X62654_rna1_at', 'D50310_at', 'X07730_at',\n",
       "       'M33684_s_at', 'M28713_at', 'D87953_at', 'D87116_at',\n",
       "       'HG2724-HT2820_at', 'M21551_rna1_at', 'M95178_at', 'K01383_at',\n",
       "       'AF009426_at', 'L02547_at', 'L47738_at', 'M31523_at', 'D50918_at',\n",
       "       'U22376_cds2_s_at', 'X52142_at', 'D26156_s_at', 'J04615_at',\n",
       "       'HG2689-HT2785_at', 'U37055_rna1_s_at'],\n",
       "      dtype='object')"
      ]
     },
     "execution_count": 205,
     "metadata": {},
     "output_type": "execute_result"
    }
   ],
   "source": [
    "phik_imp_features = phik_cors[phik_cors > 0.75].index\n",
    "phik_imp_features"
   ]
  },
  {
   "cell_type": "code",
   "execution_count": 154,
   "id": "79232272-c58b-47bb-a216-323dce5de1c3",
   "metadata": {
    "tags": []
   },
   "outputs": [],
   "source": [
    "cors = X_train.apply(lambda x: x.corr(target_one_hot))\n"
   ]
  },
  {
   "cell_type": "code",
   "execution_count": 155,
   "id": "96a0dc5e-40a4-40e0-a032-49e1a6e2037a",
   "metadata": {},
   "outputs": [],
   "source": [
    "# persons.join(target)\n"
   ]
  },
  {
   "cell_type": "code",
   "execution_count": 156,
   "id": "93dbe589-3e2e-4d72-9a44-4abb46556869",
   "metadata": {
    "tags": []
   },
   "outputs": [
    {
     "data": {
      "text/plain": [
       "Gene Accession Number\n",
       "M84526_at          -0.919101\n",
       "M96326_rna1_at     -0.900047\n",
       "M62762_at          -0.895991\n",
       "U50136_rna1_at     -0.886066\n",
       "M69043_at          -0.876101\n",
       "                      ...   \n",
       "D26156_s_at         0.759177\n",
       "J04615_at           0.764558\n",
       "D38128_at           0.768772\n",
       "HG2689-HT2785_at    0.778916\n",
       "U37055_rna1_s_at    0.792280\n",
       "Length: 7129, dtype: float64"
      ]
     },
     "execution_count": 156,
     "metadata": {},
     "output_type": "execute_result"
    }
   ],
   "source": [
    "cors = cors.sort_values()\n",
    "cors\n"
   ]
  },
  {
   "cell_type": "code",
   "execution_count": 157,
   "id": "1f0553b8",
   "metadata": {},
   "outputs": [],
   "source": [
    "important_features = cors[cors.abs() > 0.7].index\n"
   ]
  },
  {
   "cell_type": "code",
   "execution_count": 158,
   "id": "a3e31200-0b04-4851-8ed0-2ddbd46a8ed6",
   "metadata": {
    "tags": []
   },
   "outputs": [],
   "source": [
    "# cors.iloc[:30]\n"
   ]
  },
  {
   "cell_type": "code",
   "execution_count": 159,
   "id": "2efde4c7-7186-40a2-b2ad-b8e173fc68ca",
   "metadata": {
    "tags": []
   },
   "outputs": [],
   "source": [
    "# cors.iloc[-15:]\n"
   ]
  },
  {
   "cell_type": "code",
   "execution_count": 160,
   "id": "a4308c05-d963-4875-9dae-028d5b72e127",
   "metadata": {
    "tags": []
   },
   "outputs": [],
   "source": [
    "from sklearn.model_selection import train_test_split\n",
    "from sklearn.linear_model import LogisticRegression\n"
   ]
  },
  {
   "cell_type": "code",
   "execution_count": 206,
   "id": "5f3fa79b",
   "metadata": {},
   "outputs": [],
   "source": [
    "X_train = X_train[phik_imp_features]\n",
    "X_val = X_val[phik_imp_features]\n"
   ]
  },
  {
   "cell_type": "code",
   "execution_count": 207,
   "id": "28455834-4289-4f68-a7ef-ad373fefd6a2",
   "metadata": {},
   "outputs": [],
   "source": [
    "reg = LogisticRegression()\n",
    "reg.fit(X_train, Y_train)\n",
    "predicted = reg.predict(X_val)\n"
   ]
  },
  {
   "cell_type": "code",
   "execution_count": 208,
   "id": "d25d09d9",
   "metadata": {},
   "outputs": [
    {
     "data": {
      "text/plain": [
       "array([1, 1, 1, 1, 1, 0, 1, 1, 0, 0, 0, 1, 1, 1, 1, 0])"
      ]
     },
     "execution_count": 208,
     "metadata": {},
     "output_type": "execute_result"
    }
   ],
   "source": [
    "predicted\n"
   ]
  },
  {
   "cell_type": "code",
   "execution_count": 209,
   "id": "e1639c1f",
   "metadata": {},
   "outputs": [],
   "source": [
    "from sklearn.metrics import classification_report\n"
   ]
  },
  {
   "cell_type": "code",
   "execution_count": 210,
   "id": "aee5c332",
   "metadata": {},
   "outputs": [
    {
     "name": "stdout",
     "output_type": "stream",
     "text": [
      "              precision    recall  f1-score   support\n",
      "\n",
      "           0       0.80      0.80      0.80         5\n",
      "           1       0.91      0.91      0.91        11\n",
      "\n",
      "    accuracy                           0.88        16\n",
      "   macro avg       0.85      0.85      0.85        16\n",
      "weighted avg       0.88      0.88      0.88        16\n",
      "\n"
     ]
    }
   ],
   "source": [
    "print(classification_report(Y_val, predicted))\n"
   ]
  },
  {
   "cell_type": "code",
   "execution_count": null,
   "id": "75cf9286",
   "metadata": {},
   "outputs": [],
   "source": []
  }
 ],
 "metadata": {
  "kernelspec": {
   "display_name": "Python 3 (ipykernel)",
   "language": "python",
   "name": "python3"
  },
  "language_info": {
   "codemirror_mode": {
    "name": "ipython",
    "version": 3
   },
   "file_extension": ".py",
   "mimetype": "text/x-python",
   "name": "python",
   "nbconvert_exporter": "python",
   "pygments_lexer": "ipython3",
   "version": "3.10.6"
  }
 },
 "nbformat": 4,
 "nbformat_minor": 5
}
