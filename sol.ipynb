{
 "cells": [
  {
   "cell_type": "code",
   "execution_count": 1,
   "id": "4bcc48ec-34f7-4737-b607-d14133fd97e7",
   "metadata": {
    "tags": []
   },
   "outputs": [],
   "source": [
    "import pandas as pd\n",
    "pd.set_option('display.max_rows', 500)"
   ]
  },
  {
   "cell_type": "code",
   "execution_count": 2,
   "id": "522613a3-9729-49cc-8f19-3ec9a9f26bab",
   "metadata": {
    "tags": []
   },
   "outputs": [],
   "source": [
    "train = pd.read_csv('data_set_ALL_AML_train.csv')"
   ]
  },
  {
   "cell_type": "code",
   "execution_count": null,
   "id": "f5ca710e-6e3f-4365-bde2-a89d6454b2e5",
   "metadata": {
    "tags": []
   },
   "outputs": [],
   "source": []
  },
  {
   "cell_type": "code",
   "execution_count": 4,
   "id": "046c777b-c5b2-4fe3-9c15-600342211b66",
   "metadata": {
    "tags": []
   },
   "outputs": [],
   "source": [
    "test = pd.read_csv('data_set_ALL_AML_independent.csv')"
   ]
  },
  {
   "cell_type": "code",
   "execution_count": 5,
   "id": "c826b33f-ee2c-496f-96e4-a59c17059539",
   "metadata": {
    "tags": []
   },
   "outputs": [],
   "source": [
    "target_orig = pd.read_csv('actual.csv')"
   ]
  },
  {
   "cell_type": "code",
   "execution_count": 32,
   "id": "94f3cff7-8b2d-42e5-9b47-00caf402beeb",
   "metadata": {
    "tags": []
   },
   "outputs": [],
   "source": [
    "train_expressions_cols = list(map(str,range(1,38)))\n",
    "test_expressions_cols = list(map(str,range(39, 63)))\n",
    "# expressions_cols"
   ]
  },
  {
   "cell_type": "code",
   "execution_count": 29,
   "id": "d434719b-1eb0-4745-853a-1230ac1c1e5f",
   "metadata": {
    "tags": []
   },
   "outputs": [
    {
     "data": {
      "text/plain": [
       "Index(['Gene Description', 'Gene Accession Number', '1', 'call', '2', 'call.1',\n",
       "       '3', 'call.2', '4', 'call.3', '5', 'call.4', '6', 'call.5', '7',\n",
       "       'call.6', '8', 'call.7', '9', 'call.8', '10', 'call.9', '11', 'call.10',\n",
       "       '12', 'call.11', '13', 'call.12', '14', 'call.13', '15', 'call.14',\n",
       "       '16', 'call.15', '17', 'call.16', '18', 'call.17', '19', 'call.18',\n",
       "       '20', 'call.19', '21', 'call.20', '22', 'call.21', '23', 'call.22',\n",
       "       '24', 'call.23', '25', 'call.24', '26', 'call.25', '27', 'call.26',\n",
       "       '34', 'call.27', '35', 'call.28', '36', 'call.29', '37', 'call.30',\n",
       "       '38', 'call.31', '28', 'call.32', '29', 'call.33', '30', 'call.34',\n",
       "       '31', 'call.35', '32', 'call.36', '33', 'call.37'],\n",
       "      dtype='object')"
      ]
     },
     "execution_count": 29,
     "metadata": {},
     "output_type": "execute_result"
    }
   ],
   "source": [
    "train.columns"
   ]
  },
  {
   "cell_type": "code",
   "execution_count": 33,
   "id": "12ca0748-c039-4fb4-b2fb-0c176da4b32e",
   "metadata": {
    "tags": []
   },
   "outputs": [
    {
     "data": {
      "text/plain": [
       "0       AFFX-BioB-5_at\n",
       "1       AFFX-BioB-M_at\n",
       "2       AFFX-BioB-3_at\n",
       "3       AFFX-BioC-5_at\n",
       "4       AFFX-BioC-3_at\n",
       "             ...      \n",
       "7124         X83863_at\n",
       "7125         Z17240_at\n",
       "7126       L49218_f_at\n",
       "7127       M71243_f_at\n",
       "7128       Z78285_f_at\n",
       "Name: Gene Accession Number, Length: 7129, dtype: object"
      ]
     },
     "execution_count": 33,
     "metadata": {},
     "output_type": "execute_result"
    }
   ],
   "source": [
    "train['Gene Accession Number']"
   ]
  },
  {
   "cell_type": "code",
   "execution_count": 35,
   "id": "0780d252-5b2a-4a61-8163-dfac925e7599",
   "metadata": {
    "tags": []
   },
   "outputs": [],
   "source": [
    "train_exp = pd.DataFrame(train[train_expressions_cols]).set_index(train['Gene Accession Number'])\n",
    "test_exp = pd.DataFrame(test[test_expressions_cols]).set_index(test['Gene Accession Number'])"
   ]
  },
  {
   "cell_type": "code",
   "execution_count": 12,
   "id": "19ccef97-5bf8-4eba-9e97-ddc96e9fe06f",
   "metadata": {
    "tags": []
   },
   "outputs": [],
   "source": [
    "import plotly.graph_objects as go\n",
    "\n",
    "# fig = go.Figure(data=[go.Histogram(x=exp.values.reshape(-1))])\n",
    "# fig.show()"
   ]
  },
  {
   "cell_type": "code",
   "execution_count": 39,
   "id": "32dac78c-5988-4cf9-ba41-b75f7d658158",
   "metadata": {
    "tags": []
   },
   "outputs": [],
   "source": [
    "X_train = train_exp.rename({c:f\"person{c}\" for c in train_exp.columns}, axis='columns').T\n",
    "X_test = test_exp.rename({c:f\"person{c}\" for c in test_exp.columns}, axis='columns').T"
   ]
  },
  {
   "cell_type": "code",
   "execution_count": 43,
   "id": "b5aaa93d-d6aa-4488-8c34-f98993e47caa",
   "metadata": {
    "tags": []
   },
   "outputs": [],
   "source": [
    "target=pd.Series(target_orig.cancer.values, index=[f\"person{n}\" for n in target_orig.patient]).rename(\"cancer\")\n",
    "target_one_hot = (target == \"ALL\").astype(int)\n",
    "target_one_hot.value_counts()\n",
    "Y_train = target_one_hot.loc[X_train.index]\n",
    "Y_test = target_one_hot.loc[X_test.index]"
   ]
  },
  {
   "cell_type": "code",
   "execution_count": 16,
   "id": "79232272-c58b-47bb-a216-323dce5de1c3",
   "metadata": {
    "tags": []
   },
   "outputs": [],
   "source": [
    "cors = persons.apply(lambda x: x.corr(target_one_hot))"
   ]
  },
  {
   "cell_type": "code",
   "execution_count": 27,
   "id": "96a0dc5e-40a4-40e0-a032-49e1a6e2037a",
   "metadata": {},
   "outputs": [],
   "source": [
    "# persons.join(target)\n"
   ]
  },
  {
   "cell_type": "code",
   "execution_count": 17,
   "id": "93dbe589-3e2e-4d72-9a44-4abb46556869",
   "metadata": {
    "tags": []
   },
   "outputs": [],
   "source": [
    "cors = cors.sort_values()"
   ]
  },
  {
   "cell_type": "code",
   "execution_count": 21,
   "id": "1f0553b8",
   "metadata": {},
   "outputs": [],
   "source": [
    "important_features = cors[cors.abs()>0.7].index"
   ]
  },
  {
   "cell_type": "code",
   "execution_count": 22,
   "id": "a3e31200-0b04-4851-8ed0-2ddbd46a8ed6",
   "metadata": {
    "tags": []
   },
   "outputs": [],
   "source": [
    "# cors.iloc[:30]"
   ]
  },
  {
   "cell_type": "code",
   "execution_count": 23,
   "id": "2efde4c7-7186-40a2-b2ad-b8e173fc68ca",
   "metadata": {
    "tags": []
   },
   "outputs": [],
   "source": [
    "# cors.iloc[-15:]"
   ]
  },
  {
   "cell_type": "code",
   "execution_count": 24,
   "id": "a4308c05-d963-4875-9dae-028d5b72e127",
   "metadata": {
    "tags": []
   },
   "outputs": [],
   "source": [
    "from sklearn.model_selection import train_test_split\n",
    "from sklearn.linear_model import LogisticRegression"
   ]
  },
  {
   "cell_type": "code",
   "execution_count": 45,
   "id": "5f3fa79b",
   "metadata": {},
   "outputs": [],
   "source": [
    "# persons"
   ]
  },
  {
   "cell_type": "code",
   "execution_count": 46,
   "id": "28455834-4289-4f68-a7ef-ad373fefd6a2",
   "metadata": {},
   "outputs": [],
   "source": [
    "reg = LogisticRegression()\n",
    "reg.fit(X_train, Y_train)\n",
    "predicted = reg.predict(X_test)"
   ]
  },
  {
   "cell_type": "code",
   "execution_count": 47,
   "id": "d25d09d9",
   "metadata": {},
   "outputs": [
    {
     "data": {
      "text/plain": [
       "array([1, 1, 1, 1, 1, 1, 1, 1, 0, 1, 1, 0, 0, 0, 0, 0, 1, 1, 0, 0, 1, 0,\n",
       "       0, 0])"
      ]
     },
     "execution_count": 47,
     "metadata": {},
     "output_type": "execute_result"
    }
   ],
   "source": [
    "predicted"
   ]
  },
  {
   "cell_type": "code",
   "execution_count": 48,
   "id": "e1639c1f",
   "metadata": {},
   "outputs": [],
   "source": [
    "from sklearn.metrics import classification_report"
   ]
  },
  {
   "cell_type": "code",
   "execution_count": 50,
   "id": "aee5c332",
   "metadata": {},
   "outputs": [
    {
     "name": "stdout",
     "output_type": "stream",
     "text": [
      "              precision    recall  f1-score   support\n",
      "\n",
      "           0       0.91      1.00      0.95        10\n",
      "           1       1.00      0.93      0.96        14\n",
      "\n",
      "    accuracy                           0.96        24\n",
      "   macro avg       0.95      0.96      0.96        24\n",
      "weighted avg       0.96      0.96      0.96        24\n",
      "\n"
     ]
    }
   ],
   "source": [
    "print(classification_report(Y_test, predicted))"
   ]
  },
  {
   "cell_type": "code",
   "execution_count": null,
   "id": "75cf9286",
   "metadata": {},
   "outputs": [],
   "source": []
  }
 ],
 "metadata": {
  "kernelspec": {
   "display_name": "Python 3 (ipykernel)",
   "language": "python",
   "name": "python3"
  },
  "language_info": {
   "codemirror_mode": {
    "name": "ipython",
    "version": 3
   },
   "file_extension": ".py",
   "mimetype": "text/x-python",
   "name": "python",
   "nbconvert_exporter": "python",
   "pygments_lexer": "ipython3",
   "version": "3.10.6"
  }
 },
 "nbformat": 4,
 "nbformat_minor": 5
}
