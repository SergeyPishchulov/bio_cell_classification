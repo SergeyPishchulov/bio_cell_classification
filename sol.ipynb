{
 "cells": [
  {
   "cell_type": "code",
   "execution_count": 1,
   "id": "fb1d4920",
   "metadata": {},
   "outputs": [],
   "source": [
    "from sklearn.model_selection import TimeSeriesSplit\n",
    "from sklearn.ensemble import GradientBoostingRegressor\n",
    "import pandas as pd\n",
    "from xgboost import XGBRegressor\n",
    "from sklearn.model_selection import train_test_split\n",
    "import numpy as np\n",
    "import os\n",
    "import torch\n",
    "import random\n",
    "import plotly.graph_objects as go\n",
    "import plotly.express as px\n",
    "import matplotlib.pyplot as plt\n",
    "from IPython.display import Image\n",
    "\n",
    "SEED = 24535\n",
    "\n",
    "\n",
    "def seed_everything(seed=SEED):\n",
    "    random.seed(seed)\n",
    "    os.environ['PYTHONHASHSEED'] = str(seed)\n",
    "    np.random.seed(seed)\n",
    "    # torch.manual_seed(seed)\n",
    "    # torch.cuda.manual_seed(seed)\n",
    "    # torch.cuda.manual_seed_all(seed)\n",
    "    # torch.backends.cudnn.deterministic = True\n",
    "\n",
    "\n",
    "seed_everything()\n"
   ]
  },
  {
   "cell_type": "code",
   "execution_count": 2,
   "id": "4bcc48ec-34f7-4737-b607-d14133fd97e7",
   "metadata": {
    "tags": []
   },
   "outputs": [],
   "source": [
    "pd.set_option('display.max_rows', 500)\n"
   ]
  },
  {
   "cell_type": "code",
   "execution_count": 3,
   "id": "522613a3-9729-49cc-8f19-3ec9a9f26bab",
   "metadata": {
    "tags": []
   },
   "outputs": [],
   "source": [
    "train = pd.read_csv('data_set_ALL_AML_train.csv')\n"
   ]
  },
  {
   "cell_type": "code",
   "execution_count": 4,
   "id": "3f9a3780",
   "metadata": {},
   "outputs": [],
   "source": [
    "# len([c for c in test.columns if 'call' in c])"
   ]
  },
  {
   "cell_type": "code",
   "execution_count": 5,
   "id": "68d58b18",
   "metadata": {},
   "outputs": [],
   "source": [
    "# # import pandas.rpy.common as com\n",
    "# import seaborn as sns\n",
    "# %matplotlib inline\n",
    "\n",
    "# # # load the R package ISLR\n",
    "# # infert = com.importr(\"ISLR\")\n",
    "\n",
    "# # # load the Auto dataset\n",
    "# # auto_df = com.load_data('Auto')\n",
    "\n",
    "# # calculate the correlation matrix\n",
    "# corr = train.corr()\n",
    "\n",
    "# # plot the heatmap\n",
    "# sns.heatmap(corr, \n",
    "#         xticklabels=corr.columns,\n",
    "#         yticklabels=corr.columns)"
   ]
  },
  {
   "cell_type": "code",
   "execution_count": 6,
   "id": "9295e73a",
   "metadata": {},
   "outputs": [],
   "source": [
    "def get_dummies(df):\n",
    "    res = []\n",
    "    for c in df.columns:\n",
    "        # if 'call' not in c:\n",
    "        #     continue\n",
    "        res.append(pd.get_dummies(df[c]))\n",
    "    return pd.concat(res, axis=1)\n",
    "\n",
    "# get/_dummies(train)"
   ]
  },
  {
   "cell_type": "code",
   "execution_count": 7,
   "id": "dca338cf",
   "metadata": {},
   "outputs": [],
   "source": [
    "expressions_by_letter = {c: [] for c in ['A', 'P', 'M']}\n",
    "\n",
    "for c in train.columns:\n",
    "    if 'call.' not in c:\n",
    "        continue\n",
    "    \n",
    "    person_col = c.split('.')[-1]\n",
    "    for e, l in zip(train[person_col], train[c]):\n",
    "        expressions_by_letter[l].append(e)\n"
   ]
  },
  {
   "cell_type": "code",
   "execution_count": 8,
   "id": "6ba413d0",
   "metadata": {},
   "outputs": [
    {
     "data": {
      "text/plain": [
       "count    182889.000000\n",
       "mean         94.598024\n",
       "std         655.889105\n",
       "min      -28400.000000\n",
       "25%         -73.000000\n",
       "50%          43.000000\n",
       "75%         214.000000\n",
       "max       41911.000000\n",
       "dtype: float64"
      ]
     },
     "execution_count": 8,
     "metadata": {},
     "output_type": "execute_result"
    }
   ],
   "source": [
    "pd.Series(expressions_by_letter['A']).describe()"
   ]
  },
  {
   "cell_type": "code",
   "execution_count": 9,
   "id": "5aa5ca27",
   "metadata": {},
   "outputs": [
    {
     "data": {
      "text/plain": [
       "count     4245.000000\n",
       "mean       455.317314\n",
       "std        782.500963\n",
       "min      -1618.000000\n",
       "25%        109.000000\n",
       "50%        270.000000\n",
       "75%        563.000000\n",
       "max      14013.000000\n",
       "dtype: float64"
      ]
     },
     "execution_count": 9,
     "metadata": {},
     "output_type": "execute_result"
    }
   ],
   "source": [
    "pd.Series(expressions_by_letter['M']).describe()"
   ]
  },
  {
   "cell_type": "code",
   "execution_count": 10,
   "id": "e11734a3",
   "metadata": {},
   "outputs": [
    {
     "data": {
      "text/plain": [
       "count    76639.000000\n",
       "mean      1944.843148\n",
       "std       4094.395703\n",
       "min      -4125.000000\n",
       "25%        230.000000\n",
       "50%        581.000000\n",
       "75%       1442.000000\n",
       "max      61228.000000\n",
       "dtype: float64"
      ]
     },
     "execution_count": 10,
     "metadata": {},
     "output_type": "execute_result"
    }
   ],
   "source": [
    "pd.Series(expressions_by_letter['P']).describe()"
   ]
  },
  {
   "cell_type": "code",
   "execution_count": 11,
   "id": "84b6ed52",
   "metadata": {},
   "outputs": [],
   "source": [
    "# train"
   ]
  },
  {
   "cell_type": "code",
   "execution_count": 12,
   "id": "046c777b-c5b2-4fe3-9c15-600342211b66",
   "metadata": {
    "tags": []
   },
   "outputs": [],
   "source": [
    "test = pd.read_csv('data_set_ALL_AML_independent.csv')\n"
   ]
  },
  {
   "cell_type": "code",
   "execution_count": 13,
   "id": "ba1a1142",
   "metadata": {},
   "outputs": [
    {
     "data": {
      "text/plain": [
       "((7129, 78), (7129, 70))"
      ]
     },
     "execution_count": 13,
     "metadata": {},
     "output_type": "execute_result"
    }
   ],
   "source": [
    "train.shape, test.shape\n"
   ]
  },
  {
   "cell_type": "code",
   "execution_count": 14,
   "id": "fe77017f",
   "metadata": {},
   "outputs": [],
   "source": [
    "def get_person_columns(df):\n",
    "    return [c for c in df.columns if c.isdigit()]\n"
   ]
  },
  {
   "cell_type": "code",
   "execution_count": 15,
   "id": "c826b33f-ee2c-496f-96e4-a59c17059539",
   "metadata": {
    "tags": []
   },
   "outputs": [
    {
     "data": {
      "text/plain": [
       "(72, 2)"
      ]
     },
     "execution_count": 15,
     "metadata": {},
     "output_type": "execute_result"
    }
   ],
   "source": [
    "target_orig = pd.read_csv('actual.csv')\n",
    "target_orig.shape\n"
   ]
  },
  {
   "cell_type": "code",
   "execution_count": 16,
   "id": "94f3cff7-8b2d-42e5-9b47-00caf402beeb",
   "metadata": {
    "tags": []
   },
   "outputs": [],
   "source": [
    "train_expressions_cols = get_person_columns(\n",
    "    train)  # list(map(str,range(1,38)))\n",
    "test_expressions_cols = get_person_columns(\n",
    "    test)  # list(map(str,range(39, 63)))\n",
    "# expressions_cols\n"
   ]
  },
  {
   "cell_type": "code",
   "execution_count": 17,
   "id": "ca87c1b9",
   "metadata": {},
   "outputs": [],
   "source": [
    "# train_expressions_cols\n"
   ]
  },
  {
   "cell_type": "code",
   "execution_count": 18,
   "id": "12ca0748-c039-4fb4-b2fb-0c176da4b32e",
   "metadata": {
    "tags": []
   },
   "outputs": [],
   "source": [
    "# train['Gene Accession Number']\n"
   ]
  },
  {
   "cell_type": "code",
   "execution_count": 19,
   "id": "0780d252-5b2a-4a61-8163-dfac925e7599",
   "metadata": {
    "tags": []
   },
   "outputs": [],
   "source": [
    "train_exp = pd.DataFrame(train[train_expressions_cols]).set_index(\n",
    "    train['Gene Accession Number'])\n",
    "test_exp = pd.DataFrame(test[test_expressions_cols]).set_index(\n",
    "    test['Gene Accession Number'])\n"
   ]
  },
  {
   "cell_type": "code",
   "execution_count": 20,
   "id": "19ccef97-5bf8-4eba-9e97-ddc96e9fe06f",
   "metadata": {
    "tags": []
   },
   "outputs": [],
   "source": [
    "import plotly.graph_objects as go\n",
    "\n",
    "# fig = go.Figure(data=[go.Histogram(x=exp.values.reshape(-1))])\n",
    "# fig.show()\n"
   ]
  },
  {
   "cell_type": "code",
   "execution_count": 21,
   "id": "2828a07e",
   "metadata": {},
   "outputs": [],
   "source": [
    "\n",
    "def get_dummies(df, index):\n",
    "    call_df = df[[c for c in df.columns if 'call' in c]].T\n",
    "    return pd.DataFrame(pd.get_dummies(call_df.values.reshape(-1), drop_first=True).values.reshape((len(call_df), -1))).set_index(index)\n",
    "\n",
    "# get_dummies(train, X_train.index)"
   ]
  },
  {
   "cell_type": "code",
   "execution_count": 80,
   "id": "82db4a79",
   "metadata": {},
   "outputs": [],
   "source": [
    "# X_train.index"
   ]
  },
  {
   "cell_type": "code",
   "execution_count": 58,
   "id": "32dac78c-5988-4cf9-ba41-b75f7d658158",
   "metadata": {
    "tags": []
   },
   "outputs": [],
   "source": [
    "X_train = train_exp.rename(\n",
    "    {c: f\"person{c}\" for c in train_exp.columns}, axis='columns').T.sample(frac=1)\n",
    "# X_train = X_train.join(get_dummies(train, X_train.index))\n",
    "X_test = test_exp.rename(\n",
    "    {c: f\"person{c}\" for c in test_exp.columns}, axis='columns').T\n",
    "# X_test = X_test.join(get_dummies(test, X_test.index))\n",
    "val_size = 16\n",
    "X_val = X_train[-val_size:]\n",
    "X_train = X_train[:-val_size]\n"
   ]
  },
  {
   "cell_type": "code",
   "execution_count": 59,
   "id": "b0f4a36c",
   "metadata": {},
   "outputs": [
    {
     "data": {
      "text/plain": [
       "((22, 7129), (16, 7129), (34, 7129))"
      ]
     },
     "execution_count": 59,
     "metadata": {},
     "output_type": "execute_result"
    }
   ],
   "source": [
    "X_train.shape, X_val.shape, X_test.shape\n"
   ]
  },
  {
   "cell_type": "code",
   "execution_count": 60,
   "id": "b5aaa93d-d6aa-4488-8c34-f98993e47caa",
   "metadata": {
    "tags": []
   },
   "outputs": [],
   "source": [
    "target = pd.Series(target_orig.cancer.values, index=[\n",
    "                   f\"person{n}\" for n in target_orig.patient]).rename(\"cancer\")\n",
    "target_one_hot = (target == \"ALL\").astype(int)\n",
    "target_one_hot.value_counts()\n",
    "Y_train = target_one_hot.loc[X_train.index]\n",
    "Y_val = target_one_hot.loc[X_val.index]\n",
    "Y_test = target_one_hot.loc[X_test.index]\n"
   ]
  },
  {
   "cell_type": "code",
   "execution_count": 61,
   "id": "3829f1bb",
   "metadata": {},
   "outputs": [],
   "source": [
    "import phik\n",
    "from phik import resources, report\n"
   ]
  },
  {
   "cell_type": "code",
   "execution_count": 27,
   "id": "cf3d0bc4",
   "metadata": {},
   "outputs": [
    {
     "name": "stderr",
     "output_type": "stream",
     "text": [
      "100%|██████████| 7129/7129 [02:46<00:00, 42.82it/s]\n"
     ]
    }
   ],
   "source": [
    "from tqdm import tqdm\n",
    "phik_cors = {}\n",
    "for c in tqdm(X_train.columns):\n",
    "    col_cor = pd.concat([X_train[c], Y_train], axis=1).phik_matrix(verbose=False)[\n",
    "        'cancer'].iloc[:-1]\n",
    "    phik_cors[c] = col_cor[0]\n",
    "phik_cors = pd.Series(phik_cors)\n",
    "\n",
    "\n",
    "# [['M84526_at']]\n"
   ]
  },
  {
   "cell_type": "code",
   "execution_count": 29,
   "id": "841d50ef",
   "metadata": {},
   "outputs": [
    {
     "data": {
      "text/plain": [
       "U78190_rna1_at      0.987377\n",
       "U82275_at           0.991114\n",
       "U41813_at           0.993868\n",
       "Y00787_s_at         1.000000\n",
       "X95735_at           1.000000\n",
       "U80457_at           1.000000\n",
       "L27584_s_at         1.000000\n",
       "U32315_at           1.000000\n",
       "U22376_cds2_s_at    1.000000\n",
       "HG2788-HT2896_at    1.000000\n",
       "dtype: float64"
      ]
     },
     "execution_count": 29,
     "metadata": {},
     "output_type": "execute_result"
    }
   ],
   "source": [
    "phik_cors.sort_values()[-10:]\n"
   ]
  },
  {
   "cell_type": "code",
   "execution_count": 30,
   "id": "8fe5b4e9",
   "metadata": {},
   "outputs": [
    {
     "data": {
      "text/plain": [
       "Index(['AFFX-CreX-5_st', 'AFFX-DapX-5_at', 'AFFX-HUMGAPDH/M33197_3_at',\n",
       "       'AFFX-HUMTFRR/M11507_5_at', 'AFFX-HUMTFRR/M11507_M_at',\n",
       "       'AFFX-HUMTFRR/M11507_3_at', 'A28102_at', 'AB000467_at', 'AB002382_at',\n",
       "       'AB006190_at',\n",
       "       ...\n",
       "       'L32961_at', 'U20499_at', 'U62434_at', 'X06318_at', 'X51345_at',\n",
       "       'D38437_f_at', 'J00212_f_at', 'M37755_f_at', 'L10717_at', 'U29175_at'],\n",
       "      dtype='object', length=454)"
      ]
     },
     "execution_count": 30,
     "metadata": {},
     "output_type": "execute_result"
    }
   ],
   "source": [
    "phik_imp_features = phik_cors[phik_cors > 0.75].index\n",
    "phik_imp_features\n"
   ]
  },
  {
   "cell_type": "code",
   "execution_count": 41,
   "id": "c0af0a7f",
   "metadata": {},
   "outputs": [],
   "source": [
    "# pd.Series(phik_imp_features).to_csv(\"phik_important.csv\")"
   ]
  },
  {
   "cell_type": "code",
   "execution_count": null,
   "id": "79232272-c58b-47bb-a216-323dce5de1c3",
   "metadata": {
    "tags": []
   },
   "outputs": [],
   "source": [
    "cors = X_train.apply(lambda x: x.corr(target_one_hot))\n"
   ]
  },
  {
   "cell_type": "code",
   "execution_count": null,
   "id": "96a0dc5e-40a4-40e0-a032-49e1a6e2037a",
   "metadata": {},
   "outputs": [],
   "source": [
    "# persons.join(target)\n"
   ]
  },
  {
   "cell_type": "code",
   "execution_count": 31,
   "id": "93dbe589-3e2e-4d72-9a44-4abb46556869",
   "metadata": {
    "tags": []
   },
   "outputs": [],
   "source": [
    "# cors = cors.sort_values()\n",
    "# cors\n"
   ]
  },
  {
   "cell_type": "code",
   "execution_count": null,
   "id": "1f0553b8",
   "metadata": {},
   "outputs": [],
   "source": [
    "important_features = cors[cors.abs() > 0.7].index\n"
   ]
  },
  {
   "cell_type": "code",
   "execution_count": null,
   "id": "a3e31200-0b04-4851-8ed0-2ddbd46a8ed6",
   "metadata": {
    "tags": []
   },
   "outputs": [],
   "source": [
    "# cors.iloc[:30]\n"
   ]
  },
  {
   "cell_type": "code",
   "execution_count": null,
   "id": "2efde4c7-7186-40a2-b2ad-b8e173fc68ca",
   "metadata": {
    "tags": []
   },
   "outputs": [],
   "source": [
    "# cors.iloc[-15:]\n"
   ]
  },
  {
   "cell_type": "code",
   "execution_count": 58,
   "id": "a4308c05-d963-4875-9dae-028d5b72e127",
   "metadata": {
    "tags": []
   },
   "outputs": [],
   "source": []
  },
  {
   "cell_type": "code",
   "execution_count": 59,
   "id": "5f3fa79b",
   "metadata": {},
   "outputs": [],
   "source": [
    "# X_train = X_train[phik_imp_features]\n",
    "# X_val = X_val[phik_imp_features]\n",
    "# X_test = X_test[phik_imp_features]\n"
   ]
  },
  {
   "cell_type": "code",
   "execution_count": 60,
   "id": "ff70e52c",
   "metadata": {},
   "outputs": [],
   "source": [
    "# X_train = pd.concat([X_train, get_dummies()], axis=1)\n",
    "# X_test = pd.concat([X_train, get_dummies(X_test)], axis=1)\n",
    "# X_val = pd.concat([X_val, get_dummies(X_val)], axis=1)"
   ]
  },
  {
   "cell_type": "code",
   "execution_count": 66,
   "id": "2ff6462c",
   "metadata": {},
   "outputs": [],
   "source": [
    "def aug(x, y):\n",
    "    df = pd.concat([x, y], axis=1)\n",
    "    ext = df.append(df[df.cancer==0], ignore_index=True)\n",
    "    return ext[x.columns], ext['cancer']"
   ]
  },
  {
   "cell_type": "code",
   "execution_count": 67,
   "id": "949b3be5",
   "metadata": {},
   "outputs": [],
   "source": [
    "# aug(X_train, Y_train)"
   ]
  },
  {
   "cell_type": "code",
   "execution_count": 68,
   "id": "28455834-4289-4f68-a7ef-ad373fefd6a2",
   "metadata": {},
   "outputs": [
    {
     "name": "stderr",
     "output_type": "stream",
     "text": [
      "/tmp/ipykernel_14536/3576144258.py:3: FutureWarning: The frame.append method is deprecated and will be removed from pandas in a future version. Use pandas.concat instead.\n",
      "  ext = df.append(df[df.cancer==0], ignore_index=True)\n"
     ]
    }
   ],
   "source": [
    "from sklearn.model_selection import train_test_split\n",
    "from sklearn.linear_model import LogisticRegression\n",
    "\n",
    "reg = LogisticRegression()\n",
    "X_train, Y_train = aug(X_train, Y_train)\n",
    "reg.fit(X_train.values, Y_train.values)\n",
    "predicted = reg.predict(X_val.values)\n"
   ]
  },
  {
   "cell_type": "code",
   "execution_count": 69,
   "id": "d25d09d9",
   "metadata": {},
   "outputs": [
    {
     "data": {
      "text/plain": [
       "array([1, 1, 1, 1, 0, 1, 0, 0, 1, 1, 0, 1, 0, 0, 1, 1])"
      ]
     },
     "execution_count": 69,
     "metadata": {},
     "output_type": "execute_result"
    }
   ],
   "source": [
    "predicted\n"
   ]
  },
  {
   "cell_type": "code",
   "execution_count": 70,
   "id": "e1639c1f",
   "metadata": {},
   "outputs": [],
   "source": [
    "from sklearn.metrics import classification_report\n"
   ]
  },
  {
   "cell_type": "code",
   "execution_count": 71,
   "id": "aee5c332",
   "metadata": {},
   "outputs": [
    {
     "name": "stdout",
     "output_type": "stream",
     "text": [
      "              precision    recall  f1-score   support\n",
      "\n",
      "           0       1.00      1.00      1.00         6\n",
      "           1       1.00      1.00      1.00        10\n",
      "\n",
      "    accuracy                           1.00        16\n",
      "   macro avg       1.00      1.00      1.00        16\n",
      "weighted avg       1.00      1.00      1.00        16\n",
      "\n"
     ]
    }
   ],
   "source": [
    "print(classification_report(Y_val, predicted))\n"
   ]
  },
  {
   "cell_type": "code",
   "execution_count": 73,
   "id": "75cf9286",
   "metadata": {},
   "outputs": [],
   "source": [
    "np.testing.assert_equal(Y_val, predicted)"
   ]
  },
  {
   "cell_type": "code",
   "execution_count": null,
   "id": "50b97a74",
   "metadata": {},
   "outputs": [],
   "source": []
  }
 ],
 "metadata": {
  "kernelspec": {
   "display_name": "Python 3 (ipykernel)",
   "language": "python",
   "name": "python3"
  },
  "language_info": {
   "codemirror_mode": {
    "name": "ipython",
    "version": 3
   },
   "file_extension": ".py",
   "mimetype": "text/x-python",
   "name": "python",
   "nbconvert_exporter": "python",
   "pygments_lexer": "ipython3",
   "version": "3.10.6"
  }
 },
 "nbformat": 4,
 "nbformat_minor": 5
}
