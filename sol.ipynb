{
 "cells": [
  {
   "cell_type": "code",
   "execution_count": 1,
   "id": "4bcc48ec-34f7-4737-b607-d14133fd97e7",
   "metadata": {
    "tags": []
   },
   "outputs": [],
   "source": [
    "import pandas as pd\n",
    "pd.set_option('display.max_rows', 500)\n"
   ]
  },
  {
   "cell_type": "code",
   "execution_count": 2,
   "id": "522613a3-9729-49cc-8f19-3ec9a9f26bab",
   "metadata": {
    "tags": []
   },
   "outputs": [],
   "source": [
    "train = pd.read_csv('data_set_ALL_AML_train.csv')\n"
   ]
  },
  {
   "cell_type": "code",
   "execution_count": 4,
   "id": "046c777b-c5b2-4fe3-9c15-600342211b66",
   "metadata": {
    "tags": []
   },
   "outputs": [],
   "source": [
    "test = pd.read_csv('data_set_ALL_AML_independent.csv')\n"
   ]
  },
  {
   "cell_type": "code",
   "execution_count": 57,
   "id": "ba1a1142",
   "metadata": {},
   "outputs": [
    {
     "data": {
      "text/plain": [
       "((7129, 78), (7129, 70))"
      ]
     },
     "execution_count": 57,
     "metadata": {},
     "output_type": "execute_result"
    }
   ],
   "source": [
    "train.shape, test.shape\n"
   ]
  },
  {
   "cell_type": "code",
   "execution_count": 71,
   "id": "fe77017f",
   "metadata": {},
   "outputs": [],
   "source": [
    "def get_person_columns(df):\n",
    "    return [c for c in df.columns if c.isdigit()]\n"
   ]
  },
  {
   "cell_type": "code",
   "execution_count": 72,
   "id": "c826b33f-ee2c-496f-96e4-a59c17059539",
   "metadata": {
    "tags": []
   },
   "outputs": [
    {
     "data": {
      "text/plain": [
       "(72, 2)"
      ]
     },
     "execution_count": 72,
     "metadata": {},
     "output_type": "execute_result"
    }
   ],
   "source": [
    "target_orig = pd.read_csv('actual.csv')\n",
    "target_orig.shape\n"
   ]
  },
  {
   "cell_type": "code",
   "execution_count": 73,
   "id": "94f3cff7-8b2d-42e5-9b47-00caf402beeb",
   "metadata": {
    "tags": []
   },
   "outputs": [],
   "source": [
    "train_expressions_cols = get_person_columns(\n",
    "    train)  # list(map(str,range(1,38)))\n",
    "test_expressions_cols = get_person_columns(\n",
    "    test)  # list(map(str,range(39, 63)))\n",
    "# expressions_cols\n"
   ]
  },
  {
   "cell_type": "code",
   "execution_count": 75,
   "id": "ca87c1b9",
   "metadata": {},
   "outputs": [],
   "source": [
    "# train_expressions_cols\n"
   ]
  },
  {
   "cell_type": "code",
   "execution_count": 77,
   "id": "12ca0748-c039-4fb4-b2fb-0c176da4b32e",
   "metadata": {
    "tags": []
   },
   "outputs": [],
   "source": [
    "# train['Gene Accession Number']\n"
   ]
  },
  {
   "cell_type": "code",
   "execution_count": 78,
   "id": "0780d252-5b2a-4a61-8163-dfac925e7599",
   "metadata": {
    "tags": []
   },
   "outputs": [],
   "source": [
    "train_exp = pd.DataFrame(train[train_expressions_cols]).set_index(\n",
    "    train['Gene Accession Number'])\n",
    "test_exp = pd.DataFrame(test[test_expressions_cols]).set_index(\n",
    "    test['Gene Accession Number'])\n"
   ]
  },
  {
   "cell_type": "code",
   "execution_count": 79,
   "id": "19ccef97-5bf8-4eba-9e97-ddc96e9fe06f",
   "metadata": {
    "tags": []
   },
   "outputs": [],
   "source": [
    "import plotly.graph_objects as go\n",
    "\n",
    "# fig = go.Figure(data=[go.Histogram(x=exp.values.reshape(-1))])\n",
    "# fig.show()\n"
   ]
  },
  {
   "cell_type": "code",
   "execution_count": 99,
   "id": "32dac78c-5988-4cf9-ba41-b75f7d658158",
   "metadata": {
    "tags": []
   },
   "outputs": [],
   "source": [
    "X_train = train_exp.rename(\n",
    "    {c: f\"person{c}\" for c in train_exp.columns}, axis='columns').T\n",
    "X_test = test_exp.rename(\n",
    "    {c: f\"person{c}\" for c in test_exp.columns}, axis='columns').T\n",
    "val_size = 8\n",
    "X_val = X_train[-val_size:]\n",
    "X_train = X_train[:-val_size]\n"
   ]
  },
  {
   "cell_type": "code",
   "execution_count": 100,
   "id": "b0f4a36c",
   "metadata": {},
   "outputs": [
    {
     "data": {
      "text/plain": [
       "((30, 7129), (8, 7129), (34, 7129))"
      ]
     },
     "execution_count": 100,
     "metadata": {},
     "output_type": "execute_result"
    }
   ],
   "source": [
    "X_train.shape, X_val.shape, X_test.shape\n"
   ]
  },
  {
   "cell_type": "code",
   "execution_count": 101,
   "id": "b5aaa93d-d6aa-4488-8c34-f98993e47caa",
   "metadata": {
    "tags": []
   },
   "outputs": [],
   "source": [
    "target = pd.Series(target_orig.cancer.values, index=[\n",
    "                   f\"person{n}\" for n in target_orig.patient]).rename(\"cancer\")\n",
    "target_one_hot = (target == \"ALL\").astype(int)\n",
    "target_one_hot.value_counts()\n",
    "Y_train = target_one_hot.loc[X_train.index]\n",
    "Y_val = target_one_hot.loc[X_val.index]\n",
    "Y_test = target_one_hot.loc[X_test.index]\n"
   ]
  },
  {
   "cell_type": "code",
   "execution_count": 102,
   "id": "79232272-c58b-47bb-a216-323dce5de1c3",
   "metadata": {
    "tags": []
   },
   "outputs": [],
   "source": [
    "cors = X_train.apply(lambda x: x.corr(target_one_hot))\n"
   ]
  },
  {
   "cell_type": "code",
   "execution_count": 103,
   "id": "96a0dc5e-40a4-40e0-a032-49e1a6e2037a",
   "metadata": {},
   "outputs": [],
   "source": [
    "# persons.join(target)\n"
   ]
  },
  {
   "cell_type": "code",
   "execution_count": 104,
   "id": "93dbe589-3e2e-4d72-9a44-4abb46556869",
   "metadata": {
    "tags": []
   },
   "outputs": [
    {
     "data": {
      "text/plain": [
       "Gene Accession Number\n",
       "M23197_at          -0.914267\n",
       "M22960_at          -0.827920\n",
       "U50136_rna1_at     -0.815395\n",
       "D49950_at          -0.806200\n",
       "X95735_at          -0.785799\n",
       "                      ...   \n",
       "M98343_at           0.644707\n",
       "U37055_rna1_s_at    0.653387\n",
       "U60319_at           0.659274\n",
       "S82185_at           0.663764\n",
       "L13266_s_at         0.666663\n",
       "Length: 7129, dtype: float64"
      ]
     },
     "execution_count": 104,
     "metadata": {},
     "output_type": "execute_result"
    }
   ],
   "source": [
    "cors = cors.sort_values()\n",
    "cors\n"
   ]
  },
  {
   "cell_type": "code",
   "execution_count": 105,
   "id": "1f0553b8",
   "metadata": {},
   "outputs": [],
   "source": [
    "important_features = cors[cors.abs() > 0.7].index\n"
   ]
  },
  {
   "cell_type": "code",
   "execution_count": 106,
   "id": "a3e31200-0b04-4851-8ed0-2ddbd46a8ed6",
   "metadata": {
    "tags": []
   },
   "outputs": [],
   "source": [
    "# cors.iloc[:30]\n"
   ]
  },
  {
   "cell_type": "code",
   "execution_count": 107,
   "id": "2efde4c7-7186-40a2-b2ad-b8e173fc68ca",
   "metadata": {
    "tags": []
   },
   "outputs": [],
   "source": [
    "# cors.iloc[-15:]\n"
   ]
  },
  {
   "cell_type": "code",
   "execution_count": 108,
   "id": "a4308c05-d963-4875-9dae-028d5b72e127",
   "metadata": {
    "tags": []
   },
   "outputs": [],
   "source": [
    "from sklearn.model_selection import train_test_split\n",
    "from sklearn.linear_model import LogisticRegression\n"
   ]
  },
  {
   "cell_type": "code",
   "execution_count": 109,
   "id": "5f3fa79b",
   "metadata": {},
   "outputs": [],
   "source": [
    "# persons\n"
   ]
  },
  {
   "cell_type": "code",
   "execution_count": 110,
   "id": "28455834-4289-4f68-a7ef-ad373fefd6a2",
   "metadata": {},
   "outputs": [],
   "source": [
    "reg = LogisticRegression()\n",
    "reg.fit(X_train, Y_train)\n",
    "predicted = reg.predict(X_test)\n"
   ]
  },
  {
   "cell_type": "code",
   "execution_count": 111,
   "id": "d25d09d9",
   "metadata": {},
   "outputs": [
    {
     "data": {
      "text/plain": [
       "array([1, 1, 1, 0, 1, 1, 1, 1, 1, 1, 1, 1, 1, 1, 1, 1, 1, 1, 1, 0, 1, 0,\n",
       "       0, 0, 1, 0, 0, 0, 0, 1, 1, 1, 0, 0])"
      ]
     },
     "execution_count": 111,
     "metadata": {},
     "output_type": "execute_result"
    }
   ],
   "source": [
    "predicted\n"
   ]
  },
  {
   "cell_type": "code",
   "execution_count": 112,
   "id": "e1639c1f",
   "metadata": {},
   "outputs": [],
   "source": [
    "from sklearn.metrics import classification_report\n"
   ]
  },
  {
   "cell_type": "code",
   "execution_count": 113,
   "id": "aee5c332",
   "metadata": {},
   "outputs": [
    {
     "name": "stdout",
     "output_type": "stream",
     "text": [
      "              precision    recall  f1-score   support\n",
      "\n",
      "           0       0.82      0.64      0.72        14\n",
      "           1       0.78      0.90      0.84        20\n",
      "\n",
      "    accuracy                           0.79        34\n",
      "   macro avg       0.80      0.77      0.78        34\n",
      "weighted avg       0.80      0.79      0.79        34\n",
      "\n"
     ]
    }
   ],
   "source": [
    "print(classification_report(Y_test, predicted))\n"
   ]
  },
  {
   "cell_type": "code",
   "execution_count": null,
   "id": "75cf9286",
   "metadata": {},
   "outputs": [],
   "source": []
  }
 ],
 "metadata": {
  "kernelspec": {
   "display_name": "Python 3 (ipykernel)",
   "language": "python",
   "name": "python3"
  },
  "language_info": {
   "codemirror_mode": {
    "name": "ipython",
    "version": 3
   },
   "file_extension": ".py",
   "mimetype": "text/x-python",
   "name": "python",
   "nbconvert_exporter": "python",
   "pygments_lexer": "ipython3",
   "version": "3.10.6"
  }
 },
 "nbformat": 4,
 "nbformat_minor": 5
}
